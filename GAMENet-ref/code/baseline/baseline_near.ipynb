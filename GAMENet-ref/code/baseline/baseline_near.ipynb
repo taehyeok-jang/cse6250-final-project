{
 "cells": [
  {
   "cell_type": "code",
   "execution_count": 1,
   "id": "e4d08dd9-4838-40d7-8c9d-3550ee6fc33b",
   "metadata": {},
   "outputs": [
    {
     "name": "stdout",
     "output_type": "stream",
     "text": [
      "\tDDI Rate: 0.0376, Jaccard: 0.3911,  PRAUC: 0.3805, AVG_PRC: 0.5786, AVG_RECALL: 0.5705, AVG_F1: 0.5465\n",
      "\n",
      "avg med 14.768272425249169\n"
     ]
    }
   ],
   "source": [
    "import dill\n",
    "import numpy as np\n",
    "\n",
    "import sys\n",
    "sys.path.append(\"..\")\n",
    "from util import multi_label_metric\n",
    "\n",
    "data_path = '../../data/records_final.pkl'\n",
    "voc_path = '../../data/voc_final.pkl'\n",
    "\n",
    "ddi_adj_path = '../../data/ddi_A_final.pkl'\n",
    "\n",
    "data = dill.load(open(data_path, 'rb'))\n",
    "voc = dill.load(open(voc_path, 'rb'))\n",
    "diag_voc, pro_voc, med_voc = voc['diag_voc'], voc['pro_voc'], voc['med_voc']\n",
    "split_point = int(len(data) * 2 / 3)\n",
    "data_train = data[:split_point]\n",
    "eval_len = int(len(data[split_point:]) / 2)\n",
    "data_test = data[split_point:split_point + eval_len]\n",
    "data_eval = data[split_point+eval_len:]\n",
    "\n",
    "\n",
    "def main():\n",
    "    gt = []\n",
    "    pred = []\n",
    "    for patient in data_test:\n",
    "        if len(patient) == 1:\n",
    "            continue\n",
    "        for adm_idx, adm in enumerate(patient):\n",
    "            if adm_idx < len(patient)-1:\n",
    "                gt.append(patient[adm_idx+1][2])\n",
    "                pred.append(adm[2])\n",
    "    med_voc_size = len(med_voc.idx2word)\n",
    "    y_gt = np.zeros((len(gt), med_voc_size))\n",
    "    y_pred = np.zeros((len(gt), med_voc_size))\n",
    "    for idx, item in enumerate(gt):\n",
    "        y_gt[idx, item] = 1\n",
    "    for idx, item in enumerate(pred):\n",
    "        y_pred[idx, item] = 1\n",
    "\n",
    "    ja, prauc, avg_p, avg_r, avg_f1 = multi_label_metric(y_gt, y_pred, y_pred)\n",
    "\n",
    "    # ddi rate\n",
    "    ddi_A = dill.load(open(ddi_adj_path, 'rb'))\n",
    "    all_cnt = 0\n",
    "    dd_cnt = 0\n",
    "    med_cnt = 0\n",
    "    visit_cnt = 0\n",
    "    for adm in y_pred:\n",
    "        med_code_set = np.where(adm == 1)[0]\n",
    "        visit_cnt += 1\n",
    "        med_cnt += len(med_code_set)\n",
    "        for i, med_i in enumerate(med_code_set):\n",
    "            for j, med_j in enumerate(med_code_set):\n",
    "                if j <= i:\n",
    "                    continue\n",
    "                all_cnt += 1\n",
    "                if ddi_A[med_i, med_j] == 1 or ddi_A[med_j, med_i] == 1:\n",
    "                    dd_cnt += 1\n",
    "    ddi_rate = dd_cnt / all_cnt\n",
    "    print('\\tDDI Rate: %.4f, Jaccard: %.4f,  PRAUC: %.4f, AVG_PRC: %.4f, AVG_RECALL: %.4f, AVG_F1: %.4f\\n' % (\n",
    "        ddi_rate, ja, prauc, avg_p, avg_r, avg_f1\n",
    "    ))\n",
    "    print('avg med', med_cnt/ visit_cnt)\n",
    "\n",
    "if __name__ == '__main__':\n",
    "    main()"
   ]
  },
  {
   "cell_type": "code",
   "execution_count": null,
   "id": "272adf68-2458-43d6-b250-6c99f7de2144",
   "metadata": {},
   "outputs": [],
   "source": []
  }
 ],
 "metadata": {
  "kernelspec": {
   "display_name": "Python 3 (ipykernel)",
   "language": "python",
   "name": "python3"
  },
  "language_info": {
   "codemirror_mode": {
    "name": "ipython",
    "version": 3
   },
   "file_extension": ".py",
   "mimetype": "text/x-python",
   "name": "python",
   "nbconvert_exporter": "python",
   "pygments_lexer": "ipython3",
   "version": "3.8.18"
  }
 },
 "nbformat": 4,
 "nbformat_minor": 5
}
