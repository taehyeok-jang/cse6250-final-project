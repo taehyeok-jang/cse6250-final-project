{
 "cells": [
  {
   "cell_type": "code",
   "execution_count": 1,
   "id": "570f8247-0427-4fa0-afb0-7917ce02d421",
   "metadata": {},
   "outputs": [
    {
     "name": "stdout",
     "output_type": "stream",
     "text": [
      "parameters 452434\n",
      "Train--Epoch: 0, Step: 4232/4233, L_p cnt: 10306, L_neg cnt: 169\n",
      "Eval--Epoch: 0, Step: 1058/1059\tDDI Rate: 0.0029, Jaccard: 0.3638,  PRAUC: 0.6281, AVG_PRC: 0.6277, AVG_RECALL: 0.4795, AVG_F1: 0.5250\n",
      "\tEpoch: 0, Loss: 0.2530, One Epoch Time: 0.75m, Appro Left Time: 0.05h\n",
      "\n",
      "Train--Epoch: 1, Step: 4232/4233, L_p cnt: 9721, L_neg cnt: 754\n",
      "Eval--Epoch: 1, Step: 1058/1059\tDDI Rate: 0.0158, Jaccard: 0.3890,  PRAUC: 0.6461, AVG_PRC: 0.6455, AVG_RECALL: 0.5036, AVG_F1: 0.5478\n",
      "\tEpoch: 1, Loss: 0.2251, One Epoch Time: 0.81m, Appro Left Time: 0.04h\n",
      "\n",
      "Train--Epoch: 2, Step: 4232/4233, L_p cnt: 9054, L_neg cnt: 1421\n",
      "Eval--Epoch: 2, Step: 1058/1059\tDDI Rate: 0.0170, Jaccard: 0.3987,  PRAUC: 0.6609, AVG_PRC: 0.6612, AVG_RECALL: 0.5086, AVG_F1: 0.5575\n",
      "\tEpoch: 2, Loss: 0.1997, One Epoch Time: 0.82m, Appro Left Time: 0.03h\n",
      "\n",
      "Train--Epoch: 3, Step: 4232/4233, L_p cnt: 8648, L_neg cnt: 1827\n",
      "Eval--Epoch: 3, Step: 1058/1059\tDDI Rate: 0.0206, Jaccard: 0.4065,  PRAUC: 0.6664, AVG_PRC: 0.6573, AVG_RECALL: 0.5238, AVG_F1: 0.5655\n",
      "\tEpoch: 3, Loss: 0.1851, One Epoch Time: 0.81m, Appro Left Time: 0.01h\n",
      "\n",
      "Train--Epoch: 4, Step: 4232/4233, L_p cnt: 8703, L_neg cnt: 1772\n",
      "Eval--Epoch: 4, Step: 1058/1059\tDDI Rate: 0.0216, Jaccard: 0.4138,  PRAUC: 0.6718, AVG_PRC: 0.6546, AVG_RECALL: 0.5377, AVG_F1: 0.5729\n",
      "\tEpoch: 4, Loss: 0.1844, One Epoch Time: 0.85m, Appro Left Time: 0.00h\n",
      "\n",
      "best_epoch: 4\n"
     ]
    }
   ],
   "source": [
    "# training with DDI knowledge\n",
    "%run train_GAMENet.py --model_name GAMENet --ddi"
   ]
  },
  {
   "cell_type": "code",
   "execution_count": 6,
   "id": "95548562-f249-4657-8edb-299bfdfb07dd",
   "metadata": {},
   "outputs": [
    {
     "name": "stdout",
     "output_type": "stream",
     "text": [
      "parameters 452434\n",
      "\n",
      "Eval--Epoch: 0, Step: 1057/1058\tDDI Rate: 0.0251, Jaccard: 0.4164,  PRAUC: 0.6681, AVG_PRC: 0.6477, AVG_RECALL: 0.5470, AVG_F1: 0.5751\n"
     ]
    }
   ],
   "source": [
    "# TODO \n",
    "# testing with DDI knowledge\n",
    "%run train_GAMENet.py --model_name GAMENet --ddi --resume_path ./saved/GAMENet/Epoch_4_JA_0.4134_DDI_0.0257_with_DDI.model --eval "
   ]
  },
  {
   "cell_type": "code",
   "execution_count": 3,
   "id": "5d54a489-fc82-4db1-9659-e50272da2b08",
   "metadata": {},
   "outputs": [
    {
     "name": "stdout",
     "output_type": "stream",
     "text": [
      "parameters 452434\n",
      "Train--Epoch: 0, Step: 4232/4233, L_p cnt: 0, L_neg cnt: 0\n",
      "Eval--Epoch: 0, Step: 1058/1059\tDDI Rate: 0.0023, Jaccard: 0.3633,  PRAUC: 0.6271, AVG_PRC: 0.6276, AVG_RECALL: 0.4783, AVG_F1: 0.5245\n",
      "\tEpoch: 0, Loss: 0.2579, One Epoch Time: 0.71m, Appro Left Time: 0.05h\n",
      "\n",
      "Train--Epoch: 1, Step: 4232/4233, L_p cnt: 0, L_neg cnt: 0\n",
      "Eval--Epoch: 1, Step: 1058/1059\tDDI Rate: 0.0172, Jaccard: 0.3890,  PRAUC: 0.6458, AVG_PRC: 0.6400, AVG_RECALL: 0.5078, AVG_F1: 0.5481\n",
      "\tEpoch: 1, Loss: 0.2468, One Epoch Time: 0.70m, Appro Left Time: 0.03h\n",
      "\n",
      "Train--Epoch: 2, Step: 4232/4233, L_p cnt: 0, L_neg cnt: 0\n",
      "Eval--Epoch: 2, Step: 1058/1059\tDDI Rate: 0.0175, Jaccard: 0.3998,  PRAUC: 0.6589, AVG_PRC: 0.6498, AVG_RECALL: 0.5174, AVG_F1: 0.5586\n",
      "\tEpoch: 2, Loss: 0.2364, One Epoch Time: 0.74m, Appro Left Time: 0.02h\n",
      "\n",
      "Train--Epoch: 3, Step: 4232/4233, L_p cnt: 0, L_neg cnt: 0\n",
      "Eval--Epoch: 3, Step: 1058/1059\tDDI Rate: 0.0226, Jaccard: 0.4067,  PRAUC: 0.6668, AVG_PRC: 0.6511, AVG_RECALL: 0.5279, AVG_F1: 0.5652\n",
      "\tEpoch: 3, Loss: 0.2307, One Epoch Time: 0.79m, Appro Left Time: 0.01h\n",
      "\n",
      "Train--Epoch: 4, Step: 4232/4233, L_p cnt: 0, L_neg cnt: 0\n",
      "Eval--Epoch: 4, Step: 1058/1059\tDDI Rate: 0.0257, Jaccard: 0.4134,  PRAUC: 0.6707, AVG_PRC: 0.6491, AVG_RECALL: 0.5399, AVG_F1: 0.5722\n",
      "\tEpoch: 4, Loss: 0.2264, One Epoch Time: 0.81m, Appro Left Time: 0.00h\n",
      "\n",
      "best_epoch: 4\n"
     ]
    }
   ],
   "source": [
    "# training without DDI knowledge\n",
    "%run train_GAMENet.py --model_name GAMENet"
   ]
  },
  {
   "cell_type": "code",
   "execution_count": 8,
   "id": "6b67fd9b-1788-43e4-9250-0f9b9909190a",
   "metadata": {},
   "outputs": [
    {
     "name": "stdout",
     "output_type": "stream",
     "text": [
      "parameters 452434\n",
      "\n",
      "Eval--Epoch: 0, Step: 1057/1058\tDDI Rate: 0.0263, Jaccard: 0.4117,  PRAUC: 0.6679, AVG_PRC: 0.6540, AVG_RECALL: 0.5354, AVG_F1: 0.5705\n"
     ]
    }
   ],
   "source": [
    "# TODO \n",
    "# testing with DDI knowledge\n",
    "%run train_GAMENet.py --model_name GAMENet --resume_path ./saved/GAMENet/Epoch_4_JA_0.4138_DDI_0.0216.model --eval"
   ]
  },
  {
   "cell_type": "code",
   "execution_count": null,
   "id": "8f66c9fd-1350-4bab-8432-82a9bab126d7",
   "metadata": {},
   "outputs": [],
   "source": []
  }
 ],
 "metadata": {
  "kernelspec": {
   "display_name": "Python 3 (ipykernel)",
   "language": "python",
   "name": "python3"
  },
  "language_info": {
   "codemirror_mode": {
    "name": "ipython",
    "version": 3
   },
   "file_extension": ".py",
   "mimetype": "text/x-python",
   "name": "python",
   "nbconvert_exporter": "python",
   "pygments_lexer": "ipython3",
   "version": "3.8.18"
  }
 },
 "nbformat": 4,
 "nbformat_minor": 5
}
